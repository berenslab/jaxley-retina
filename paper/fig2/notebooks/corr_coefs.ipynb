{
 "cells": [
  {
   "cell_type": "code",
   "execution_count": 10,
   "id": "0ce08933",
   "metadata": {},
   "outputs": [],
   "source": [
    "import json\n",
    "import matplotlib.pyplot as plt\n",
    "import numpy as np\n",
    "import pickle\n",
    "from scipy.stats import pearsonr\n",
    "from scipy.io import loadmat"
   ]
  },
  {
   "cell_type": "markdown",
   "id": "84078245",
   "metadata": {},
   "source": [
    "### Spectral selectivity comparison"
   ]
  },
  {
   "cell_type": "code",
   "execution_count": 2,
   "id": "c4c10031",
   "metadata": {},
   "outputs": [],
   "source": [
    "with open(\"SC_comps.pkl\", \"rb\") as f:\n",
    "    SC_comp = pickle.load(f)"
   ]
  },
  {
   "cell_type": "code",
   "execution_count": 3,
   "id": "5736a284",
   "metadata": {},
   "outputs": [
    {
     "data": {
      "text/plain": [
       "PearsonRResult(statistic=0.9587100848473007, pvalue=9.350962532117455e-24)"
      ]
     },
     "execution_count": 3,
     "metadata": {},
     "output_type": "execute_result"
    }
   ],
   "source": [
    "pearsonr(SC_comp['sim_SCs'], SC_comp['data_SCs'], alternative='greater')"
   ]
  },
  {
   "cell_type": "markdown",
   "id": "a79719c0",
   "metadata": {},
   "source": [
    "### Photocurrent trace"
   ]
  },
  {
   "cell_type": "code",
   "execution_count": 4,
   "id": "57480473",
   "metadata": {},
   "outputs": [],
   "source": [
    "# Load the stimuli and data\n",
    "data_path = \"../../../data/RiekeMouseConeResponses.mat\"\n",
    "data = loadmat(data_path)\n",
    "\n",
    "responses = [data['ConeResponses'][0][i][0][0][0][0] for i in range(6)]\n",
    "stimuli = [data['ConeResponses'][0][i][0][0][1][0] for i in range(6)]\n",
    "\n",
    "test_stim = stimuli[4]\n",
    "test_response = responses[4]\n",
    "\n",
    "# Load the fits\n",
    "with open(\"cascade_final_fit.pkl\", \"rb\") as f:\n",
    "    cascade_fit = pickle.load(f)\n",
    "trained_normed = cascade_fit['trained_normed']\n",
    "init_normed = cascade_fit['init_normed']"
   ]
  },
  {
   "cell_type": "code",
   "execution_count": 5,
   "id": "fe142bc9",
   "metadata": {},
   "outputs": [
    {
     "data": {
      "text/plain": [
       "0.06765989907710937"
      ]
     },
     "execution_count": 5,
     "metadata": {},
     "output_type": "execute_result"
    }
   ],
   "source": [
    "np.var(test_response)"
   ]
  },
  {
   "cell_type": "code",
   "execution_count": 6,
   "id": "5585ff89",
   "metadata": {},
   "outputs": [
    {
     "data": {
      "text/plain": [
       "Array(0.00878756, dtype=float32)"
      ]
     },
     "execution_count": 6,
     "metadata": {},
     "output_type": "execute_result"
    }
   ],
   "source": [
    "MSE = np.mean((test_response - trained_normed) ** 2)\n",
    "MSE"
   ]
  },
  {
   "cell_type": "code",
   "execution_count": 7,
   "id": "1854eb3b",
   "metadata": {},
   "outputs": [
    {
     "data": {
      "text/plain": [
       "Array(0.87012166, dtype=float32)"
      ]
     },
     "execution_count": 7,
     "metadata": {},
     "output_type": "execute_result"
    }
   ],
   "source": [
    "1 - (MSE / np.var(test_response))"
   ]
  },
  {
   "cell_type": "markdown",
   "id": "13342e4d",
   "metadata": {},
   "source": [
    "### Glutamate traces"
   ]
  },
  {
   "cell_type": "code",
   "execution_count": 11,
   "id": "a4525f69",
   "metadata": {},
   "outputs": [],
   "source": [
    "# Load the data\n",
    "with open(\"../../../data/120_center_responses.pkl\", \"rb\") as f:\n",
    "    trace_selection = pickle.load(f) "
   ]
  },
  {
   "cell_type": "code",
   "execution_count": 12,
   "id": "2db008d0",
   "metadata": {},
   "outputs": [],
   "source": [
    "# Load all the cell numbers\n",
    "with open(\"../../../params/ribbon/cell_nums.txt\", \"r\") as f:\n",
    "    cell_nums = json.load(f)\n",
    "\n",
    "# Load the final solutions\n",
    "with open(\"ribbon_solns.pkl\", \"rb\") as f:\n",
    "    final_solns = pickle.load(f)"
   ]
  },
  {
   "cell_type": "code",
   "execution_count": 15,
   "id": "efd32fbc",
   "metadata": {},
   "outputs": [
    {
     "data": {
      "text/plain": [
       "array([ 6, 14, 11, 20,  5, 62, 66, 61, 65, 75])"
      ]
     },
     "execution_count": 15,
     "metadata": {},
     "output_type": "execute_result"
    }
   ],
   "source": [
    "n2show = 5\n",
    "\n",
    "# Choose a random subset from the best 20 selection that you use for mnist\n",
    "with open(\"../../../params/ribbon/best_20_params_w_cellnums.pkl\", \"rb\") as f:\n",
    "    best_cell_nums, best_params = pickle.load(f)\n",
    "_ = np.random.seed(0)\n",
    "rand_dorsal = np.random.choice(best_cell_nums[:10], n2show, replace=False)\n",
    "rand_ventral = np.random.choice(best_cell_nums[10:], n2show, replace=False)\n",
    "trace_indices = np.concatenate((rand_dorsal, rand_ventral))\n",
    "trace_indices"
   ]
  },
  {
   "cell_type": "code",
   "execution_count": 20,
   "id": "2db47d89",
   "metadata": {},
   "outputs": [
    {
     "data": {
      "text/plain": [
       "([0.9476932,\n",
       "  0.89898777,\n",
       "  0.9364698,\n",
       "  0.8761715,\n",
       "  0.88651097,\n",
       "  0.9429598,\n",
       "  0.89325583,\n",
       "  0.9396544,\n",
       "  0.9271328,\n",
       "  0.87048376,\n",
       "  0.97316915,\n",
       "  0.95417106,\n",
       "  0.9758342,\n",
       "  0.94728297,\n",
       "  0.91283834,\n",
       "  0.9756392,\n",
       "  0.90819657,\n",
       "  0.96493465,\n",
       "  0.8766454,\n",
       "  0.8286468],\n",
       " [Array(0.08899015, dtype=float32),\n",
       "  Array(0.12138499, dtype=float32),\n",
       "  Array(0.02489917, dtype=float32),\n",
       "  Array(0.1610046, dtype=float32),\n",
       "  Array(0.1021454, dtype=float32),\n",
       "  Array(0.09049678, dtype=float32),\n",
       "  Array(0.10857911, dtype=float32),\n",
       "  Array(0.11733963, dtype=float32),\n",
       "  Array(0.08683628, dtype=float32),\n",
       "  Array(0.13966048, dtype=float32),\n",
       "  Array(0.05644567, dtype=float32),\n",
       "  Array(0.12068921, dtype=float32),\n",
       "  Array(0.05416939, dtype=float32),\n",
       "  Array(0.4057353, dtype=float32),\n",
       "  Array(0.05863358, dtype=float32),\n",
       "  Array(0.06829395, dtype=float32),\n",
       "  Array(0.22252695, dtype=float32),\n",
       "  Array(0.19774127, dtype=float32),\n",
       "  Array(0.21898669, dtype=float32),\n",
       "  Array(0.43664518, dtype=float32)])"
      ]
     },
     "execution_count": 20,
     "metadata": {},
     "output_type": "execute_result"
    }
   ],
   "source": [
    "rs = []\n",
    "mses = []\n",
    "for i, iin in enumerate(best_cell_nums):\n",
    "    # Plot the simulation results\n",
    "    data_time = np.arange(0, 4, step=1/500)\n",
    "    soln_idx = list(cell_nums).index(iin) # instead of i if calced all final solns\n",
    "    # plt.plot(data_time, final_solns[soln_idx], c=\"k\")\n",
    "\n",
    "    trace_selection_g = trace_selection[iin, :1000]\n",
    "    g_time = data_time[:1000]\n",
    "    trace_selection_uv = trace_selection[iin, 1000:]\n",
    "    uv_time = data_time[1000:]\n",
    "\n",
    "    full_data = np.concatenate((trace_selection_g, trace_selection_uv))\n",
    "    # plt.plot(data_time, full_data, c=\"g\")\n",
    "\n",
    "    MSE = np.mean((final_solns[soln_idx] - full_data) ** 2)\n",
    "    mses.append(MSE)\n",
    "    r = pearsonr(final_solns[soln_idx], full_data)[0]\n",
    "    rs.append(r)\n",
    "\n",
    "rs, mses\n"
   ]
  },
  {
   "cell_type": "code",
   "execution_count": 21,
   "id": "e07d64b8",
   "metadata": {},
   "outputs": [
    {
     "data": {
      "text/plain": [
       "(0.8286468, 0.9758342)"
      ]
     },
     "execution_count": 21,
     "metadata": {},
     "output_type": "execute_result"
    }
   ],
   "source": [
    "np.min(rs), np.max(rs)"
   ]
  },
  {
   "cell_type": "code",
   "execution_count": 22,
   "id": "331dc934",
   "metadata": {},
   "outputs": [
    {
     "data": {
      "text/plain": [
       "(0.024899172, 0.43664518)"
      ]
     },
     "execution_count": 22,
     "metadata": {},
     "output_type": "execute_result"
    }
   ],
   "source": [
    "np.min(mses), np.max(mses)"
   ]
  }
 ],
 "metadata": {
  "kernelspec": {
   "display_name": "retina",
   "language": "python",
   "name": "python3"
  },
  "language_info": {
   "codemirror_mode": {
    "name": "ipython",
    "version": 3
   },
   "file_extension": ".py",
   "mimetype": "text/x-python",
   "name": "python",
   "nbconvert_exporter": "python",
   "pygments_lexer": "ipython3",
   "version": "3.10.6"
  }
 },
 "nbformat": 4,
 "nbformat_minor": 5
}
